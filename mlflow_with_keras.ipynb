{
 "cells": [
  {
   "cell_type": "code",
   "execution_count": null,
   "metadata": {},
   "outputs": [],
   "source": [
    "# !pip install numpy\n",
    "# !pip install mlflow\n",
    "# !pip install tensorflow\n",
    "# !pip install -U scikit-learn"
   ]
  },
  {
   "cell_type": "code",
   "execution_count": 5,
   "metadata": {},
   "outputs": [],
   "source": [
    "import numpy as np\n",
    "from mlflow import set_tracking_uri,log_params,log_metric,end_run,set_experiment,start_run\n",
    "from mlflow.keras import log_model\n",
    "from mlflow.tensorflow import autolog  as tf_mlflow_log \n",
    "from mlflow.models.signature import infer_signature\n",
    "from tensorflow.keras import layers, optimizers,losses, models,metrics\n",
    "from sklearn.metrics import mean_absolute_percentage_error, r2_score"
   ]
  },
  {
   "cell_type": "code",
   "execution_count": 2,
   "metadata": {},
   "outputs": [],
   "source": [
    "x = np.random.rand(100,5)\n",
    "y= np.random.rand(100,1)"
   ]
  },
  {
   "cell_type": "code",
   "execution_count": 7,
   "metadata": {},
   "outputs": [
    {
     "name": "stdout",
     "output_type": "stream",
     "text": [
      "Epoch 1/2\n",
      "3/3 [==============================] - 1s 105ms/step - loss: 0.6541 - val_loss: 0.6149\n",
      "Epoch 2/2\n",
      "3/3 [==============================] - 0s 32ms/step - loss: 0.6211 - val_loss: 0.5933\n",
      "INFO:tensorflow:Assets written to: C:\\Users\\ramsi\\AppData\\Local\\Temp\\tmphip0jzoo\\model\\data\\model\\assets\n"
     ]
    }
   ],
   "source": [
    "set_tracking_uri('./testing')\n",
    "set_experiment('Dummy')\n",
    "start_run(run_name=\"Exp1\")\n",
    "\n",
    "inp = layers.Input(shape= (x.shape[1],))\n",
    "x1 = layers.Dense(units=10,activation='relu')(inp)\n",
    "x1 = layers.Dense(units=5,activation='relu')(x1)\n",
    "output = layers.Dense(units=1)(x1)\n",
    "\n",
    "model = models.Model(inputs=[inp],outputs=[output])\n",
    "model.compile(optimizer='adam',loss ='mean_absolute_error')\n",
    "\n",
    "\n",
    "tf_mlflow_log(every_n_iter=1)\n",
    "\n",
    "model.fit(x,y, epochs=2,validation_split=.1)\n",
    "pred = model.predict(x)\n",
    "\n",
    "log_params({'Model Type':'Regression','epochs':2,'valdiation_split':.1\n",
    "                    ,'optimizers':'adam','loss':'MAE'})\n",
    "log_metric('R Square',r2_score(y,pred))\n",
    "log_metric('MAPE',mean_absolute_percentage_error(y,pred))\n",
    "\n",
    "end_run()"
   ]
  },
  {
   "cell_type": "markdown",
   "metadata": {},
   "source": [
    "### To run the UI follow below steps\n",
    "\n",
    "1- Open annaconda prompt\n",
    "\n",
    "2- Activate environment variable (if you have created to run the code)\n",
    "\n",
    "3- type below code\n",
    "    mlflow ui file:///complete_path_of_mlflow_directory\n",
    "\n",
    "4- Once above step is complete, it will show one url as below\n",
    "\n",
    "    http://127.0.0.1:5000/\n",
    "\n",
    "5- Copy the URL and open it in your browser\n",
    "\n",
    "If everything went well then you can see all the prior experiment and loged artificats.\n"
   ]
  },
  {
   "cell_type": "code",
   "execution_count": null,
   "metadata": {},
   "outputs": [],
   "source": []
  }
 ],
 "metadata": {
  "kernelspec": {
   "display_name": "Python 3.8.12 ('q_and_a')",
   "language": "python",
   "name": "python3"
  },
  "language_info": {
   "codemirror_mode": {
    "name": "ipython",
    "version": 3
   },
   "file_extension": ".py",
   "mimetype": "text/x-python",
   "name": "python",
   "nbconvert_exporter": "python",
   "pygments_lexer": "ipython3",
   "version": "3.8.12"
  },
  "orig_nbformat": 4,
  "vscode": {
   "interpreter": {
    "hash": "98c9e548119acb6d47424dce801786511b4e21a2ce77805a397101f175af0aed"
   }
  }
 },
 "nbformat": 4,
 "nbformat_minor": 2
}
